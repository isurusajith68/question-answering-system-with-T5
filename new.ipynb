{
 "cells": [
  {
   "cell_type": "code",
   "execution_count": null,
   "metadata": {},
   "outputs": [
    {
     "name": "stderr",
     "output_type": "stream",
     "text": [
      "Generating train split: 20 examples [00:00, 2499.29 examples/s]\n",
      "Map: 100%|██████████| 20/20 [00:00<00:00, 467.01 examples/s]\n",
      "c:\\Users\\Isuru\\anaconda3\\envs\\new\\Lib\\site-packages\\transformers\\training_args.py:1568: FutureWarning: `evaluation_strategy` is deprecated and will be removed in version 4.46 of 🤗 Transformers. Use `eval_strategy` instead\n",
      "  warnings.warn(\n",
      "                                              \n",
      " 33%|███▎      | 9/27 [01:27<03:02, 10.13s/it]"
     ]
    },
    {
     "name": "stdout",
     "output_type": "stream",
     "text": [
      "{'eval_loss': 1.110277533531189, 'eval_runtime': 3.1347, 'eval_samples_per_second': 0.638, 'eval_steps_per_second': 0.319, 'epoch': 1.0}\n"
     ]
    },
    {
     "name": "stderr",
     "output_type": "stream",
     "text": [
      "                                               \n",
      " 67%|██████▋   | 18/27 [02:51<01:19,  8.80s/it]"
     ]
    },
    {
     "name": "stdout",
     "output_type": "stream",
     "text": [
      "{'eval_loss': 0.9875649213790894, 'eval_runtime': 2.5548, 'eval_samples_per_second': 0.783, 'eval_steps_per_second': 0.391, 'epoch': 2.0}\n"
     ]
    },
    {
     "name": "stderr",
     "output_type": "stream",
     "text": [
      "100%|██████████| 27/27 [04:09<00:00,  8.19s/it]"
     ]
    }
   ],
   "source": [
    "from transformers import AutoTokenizer, AutoModelForCausalLM, TrainingArguments, Trainer\n",
    "from datasets import load_dataset\n",
    "\n",
    "model_name = \"EleutherAI/gpt-neo-125M\" \n",
    "tokenizer = AutoTokenizer.from_pretrained(model_name)\n",
    "\n",
    "if tokenizer.pad_token is None:\n",
    "    tokenizer.pad_token = tokenizer.eos_token  \n",
    "\n",
    "def preprocess_data(example):\n",
    "    inputs = tokenizer(\n",
    "        example[\"context\"], truncation=True, padding=\"max_length\", max_length=512\n",
    "    )\n",
    "    labels = tokenizer(\n",
    "        example[\"output\"], truncation=True, padding=\"max_length\", max_length=512\n",
    "    )\n",
    "    \n",
    "    return {\n",
    "        \"input_ids\": inputs[\"input_ids\"],\n",
    "        \"attention_mask\": inputs[\"attention_mask\"],  \n",
    "        \"labels\": labels[\"input_ids\"],\n",
    "    }\n",
    "\n",
    "dataset = load_dataset(\"json\", data_files=\"mcq_dataset.json\")\n",
    "\n",
    "processed_dataset = dataset.map(preprocess_data, batched=True)\n",
    "\n",
    "train_test_split = processed_dataset[\"train\"].train_test_split(test_size=0.1)\n",
    "train_dataset = train_test_split[\"train\"]\n",
    "eval_dataset = train_test_split[\"test\"]\n",
    "\n",
    "training_args = TrainingArguments(\n",
    "    output_dir=\"./results\", \n",
    "    evaluation_strategy=\"epoch\", \n",
    "    learning_rate=5e-5,\n",
    "    per_device_train_batch_size=2,  \n",
    "    per_device_eval_batch_size=2,\n",
    "    num_train_epochs=3, \n",
    "    save_steps=10_000, \n",
    "    save_total_limit=2, \n",
    "    logging_dir=\"./logs\",  \n",
    "    fp16=True, \n",
    ")\n",
    "\n",
    "\n",
    "model = AutoModelForCausalLM.from_pretrained(model_name)\n",
    "\n",
    "trainer = Trainer(\n",
    "    model=model,\n",
    "    args=training_args,\n",
    "    train_dataset=train_dataset,\n",
    "    eval_dataset=eval_dataset, \n",
    ")\n",
    "\n",
    "trainer.train()\n",
    "\n",
    "model.save_pretrained(\"./fine_tuned_model\")\n",
    "tokenizer.save_pretrained(\"./fine_tuned_model\")\n"
   ]
  },
  {
   "cell_type": "code",
   "execution_count": null,
   "metadata": {},
   "outputs": [],
   "source": [
    "from transformers import AutoTokenizer, AutoModelForCausalLM\n",
    "import torch\n",
    "\n",
    "\n",
    "model_path = \"./fine_tuned_model\"\n",
    "tokenizer = AutoTokenizer.from_pretrained(model_path)\n",
    "model = AutoModelForCausalLM.from_pretrained(model_path)\n",
    "\n",
    "\n",
    "if tokenizer.pad_token is None:\n",
    "    tokenizer.pad_token = tokenizer.eos_token \n",
    "\n",
    "\n",
    "def generate_mcq(context: str):\n",
    "\n",
    "    inputs = tokenizer(\n",
    "        context,\n",
    "        return_tensors=\"pt\",\n",
    "        truncation=True,\n",
    "        padding=\"max_length\",\n",
    "        max_length=512\n",
    "    )\n",
    "    \n",
    "    inputs['attention_mask'] = inputs['attention_mask'] if 'attention_mask' in inputs else torch.ones_like(inputs['input_ids'])\n",
    "    \n",
    "  \n",
    "    with torch.no_grad():\n",
    "        output = model.generate(\n",
    "            input_ids=inputs[\"input_ids\"], \n",
    "            attention_mask=inputs[\"attention_mask\"], \n",
    "            max_new_tokens=100,  \n",
    "            num_return_sequences=1\n",
    "        )\n",
    "    \n",
    "    generated_text = tokenizer.decode(output[0], skip_special_tokens=True)\n",
    "    return generated_text\n",
    "\n",
    "\n",
    "context = \"Cloud computing provides businesses with virtualized computing resources like storage and networking on a pay-as-you-go basis, allowing for scalable and flexible resource management.\"\n",
    "\n",
    "generated_mcq = generate_mcq(context)\n",
    "print(generated_mcq)\n"
   ]
  }
 ],
 "metadata": {
  "kernelspec": {
   "display_name": "new",
   "language": "python",
   "name": "python3"
  },
  "language_info": {
   "codemirror_mode": {
    "name": "ipython",
    "version": 3
   },
   "file_extension": ".py",
   "mimetype": "text/x-python",
   "name": "python",
   "nbconvert_exporter": "python",
   "pygments_lexer": "ipython3",
   "version": "3.12.7"
  }
 },
 "nbformat": 4,
 "nbformat_minor": 2
}
